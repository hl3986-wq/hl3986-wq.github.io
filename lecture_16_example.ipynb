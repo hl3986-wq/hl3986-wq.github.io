{
 "cells": [
  {
   "cell_type": "markdown",
   "id": "11d7423f",
   "metadata": {},
   "source": [
    "# Lecture 16 Example\n"
   ]
  }
 ],
 "metadata": {
  "language_info": {
   "name": "python"
  }
 },
 "nbformat": 4,
 "nbformat_minor": 5
}
