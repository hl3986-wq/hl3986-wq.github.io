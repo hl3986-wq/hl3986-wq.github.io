{
 "cells": [
  {
   "cell_type": "code",
   "execution_count": null,
   "metadata": {},
   "outputs": [],
   "source": []
  },
  {
   "cell_type": "markdown",
   "metadata": {
    "id": "1DtiFdviGF_R"
   },
   "source": [
    "### CiC Election Project Lab\n",
    "### Due  Tuesday October 28"
   ]
  },
  {
   "cell_type": "markdown",
   "metadata": {
    "id": "d992iKVQGF_Z"
   },
   "source": [
    "Today we're going to discuss your election project. We will review simulating Bernoulli Random Variables and then use list comprehensions to create some useful lists."
   ]
  },
  {
   "cell_type": "markdown",
   "metadata": {
    "id": "bSPqBncjGF_a"
   },
   "source": [
    "### Probability Review Problems\n",
    "\n",
    "**Problem 1**  \n",
    "Using `random.random()` create a function that flips a fair coin. That is create a function that randomly returns a 1 half the time and a 0 the other half of the time."
   ]
  },
  {
   "cell_type": "code",
   "execution_count": null,
   "metadata": {
    "id": "SBd5b3D_GF_b"
   },
   "outputs": [],
   "source": [
    "import random\n",
    "def coin_flip():\n",
    "    # your code here\n"
   ]
  },
  {
   "cell_type": "markdown",
   "metadata": {
    "id": "_0DlzgU9GF_d"
   },
   "source": [
    "**Problem 2**    \n",
    "Using `random.random` create a function that rolls a six sided die. That is create a function that randomly returns a number 1 through 6 where each number is equally likely to be returned."
   ]
  },
  {
   "cell_type": "code",
   "execution_count": null,
   "metadata": {
    "id": "fQwsNK7IGF_d"
   },
   "outputs": [],
   "source": [
    "def die_roll():\n",
    "    # your code here"
   ]
  },
  {
   "cell_type": "markdown",
   "metadata": {
    "id": "oFBYiKabGF_f"
   },
   "source": [
    "Problem 3\n",
    "Using `random.random()` create a function that returns the outcome of a bernoulli trial outputing a 1 for success and a 0 otherwise. The function must take the success probability `p` as a parameter."
   ]
  },
  {
   "cell_type": "code",
   "execution_count": null,
   "metadata": {
    "id": "0XkSprlfGF_f"
   },
   "outputs": [],
   "source": [
    "def bern(p):\n",
    "    # your code here"
   ]
  },
  {
   "cell_type": "markdown",
   "metadata": {
    "id": "xRbAANgkGF_h"
   },
   "source": [
    "###  Question: How do US Presidential Elections work?\n",
    "\n",
    "Each state in the union gets a number of points we call Electoral College votes. These point values are (partially) based on the population of that state as determined in the last census. During an election each state votes and the winner of the popular vote in a given state gets all of that state's EC votes. The candidate with the most EC votes after all states have voted, is the winner of the election. There are a couple of states that do not use this winner-take-all system but for simplicity sake, we will assume that all states do this. You can also make this assumption in your homework. In addition to the the 50 US states, the District of Columbia gets 3 EC votes, so there are 51 Electoral College races in all. The distribution of EC votes for the 2024 election may be seen [here](https://ballotpedia.org/Electoral_College_in_the_2024_presidential_election). It turns out that there are 538 EC votes. Notice that this is an even number! This means it may be possible for a tie to occur between two candidates if they each win 269 EC votes. Until pretty recently it was unknown just how likely this possibility was.\n",
    "\n",
    "In your current assignment you will use Monte Carlo simulation to estimate the number of ways an Electoral College tie can occur. You will also consider the 2000 US Presidential Election and estimate the probabilities of victory or tie. To help get you started we will consider how to create some useful lists using list comprehension.\n",
    "\n"
   ]
  },
  {
   "cell_type": "markdown",
   "metadata": {
    "collapsed": true,
    "id": "0AixGQzVGF_i",
    "jupyter": {
     "outputs_hidden": true
    }
   },
   "source": [
    "### 1 Simulating an Election\n",
    "Let's start simple. Assume we have exactly two candidates in our election. Let's also assume that the probability of either candidate winning any given state is 0.5, so a coin flip.  \n",
    "\n",
    "**Part 1:** There are 51 Electoral College races (50 states plus the district of Columbia) so we need to flip 51 coins to determine the outcomes in these races. Using list comprehension, create a list of 51 Booleans each determined by a different coin flip. This list will represent the outcomes of each of our Electoral College races."
   ]
  },
  {
   "cell_type": "code",
   "execution_count": null,
   "metadata": {
    "id": "GXZ3xhMYGF_i"
   },
   "outputs": [],
   "source": [
    "# your code for Part 1 here"
   ]
  },
  {
   "cell_type": "markdown",
   "metadata": {
    "id": "Wol5WzIxGF_j"
   },
   "source": [
    "**Part 2:** Using the list you just created, create a second list of EC values amassed by a candidate. This list should also have 51 entries. Each entry should be the EC value of the a state if the corresponding value in the list from Part 1 is `True` and should have a zero if the corresponding value in the list from Part 1 is `False`. What exactly does this list represent? How can we use this to determine how many EC votes a candidate has won in our simulated election?\n"
   ]
  },
  {
   "cell_type": "code",
   "execution_count": null,
   "metadata": {
    "id": "K1vklIgaGF_j"
   },
   "outputs": [],
   "source": [
    "# your code for Part 2 here"
   ]
  },
  {
   "cell_type": "markdown",
   "metadata": {
    "id": "MAWkt-R5GF_j"
   },
   "source": [
    "### 2 Relaxing a bad assumption\n",
    "The obvious truth is that the probability of a candidate winning a particular state is rarely 0.5. Create a list of 51 random values between 0 and 1 and pretend these are our best estimates for the probabilities that Candidate A wins in each state. So for example suppose there are only three states and the list looks like this `[0.4, 0.2, 0.6]`. What that means is that there is 0.4 probability that Candidate A wins state 1 and .2 that they win state 2, etc... Using this list of new probabilities, redo part 1. That is, use list comprehension to create a list of 51 `True` or `False` values where the values are now determined by Bernoulli trials each with the above associated probabilities.  "
   ]
  },
  {
   "cell_type": "code",
   "execution_count": null,
   "metadata": {
    "id": "p5GqxPDDGF_k"
   },
   "outputs": [],
   "source": [
    "# your code here"
   ]
  }
 ],
 "metadata": {
  "colab": {
   "provenance": []
  },
  "kernelspec": {
   "display_name": "Python 3 (ipykernel)",
   "language": "python",
   "name": "python3"
  },
  "language_info": {
   "codemirror_mode": {
    "name": "ipython",
    "version": 3
   },
   "file_extension": ".py",
   "mimetype": "text/x-python",
   "name": "python",
   "nbconvert_exporter": "python",
   "pygments_lexer": "ipython3",
   "version": "3.12.4"
  }
 },
 "nbformat": 4,
 "nbformat_minor": 0
}
